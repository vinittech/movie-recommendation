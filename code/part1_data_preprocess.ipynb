{
  "nbformat": 4,
  "nbformat_minor": 0,
  "metadata": {
    "kernelspec": {
      "display_name": "Python 3",
      "language": "python",
      "name": "python3"
    },
    "language_info": {
      "codemirror_mode": {
        "name": "ipython",
        "version": 3
      },
      "file_extension": ".py",
      "mimetype": "text/x-python",
      "name": "python",
      "nbconvert_exporter": "python",
      "pygments_lexer": "ipython3",
      "version": "3.7.3"
    },
    "colab": {
      "name": "data-preprocess.ipynb",
      "provenance": [],
      "collapsed_sections": []
    }
  },
  "cells": [
    {
      "cell_type": "markdown",
      "metadata": {
        "id": "PxvsdBUnuWXC",
        "colab_type": "text"
      },
      "source": [
        "# Movie-Recommendation using Auto-Encoders\n",
        "\n",
        "The project is based on building a recommendation system using Auto-Encoders. Although generic recommendation system have been around for quite sometime now, using auto-encoders for recommendation system is a novel idea. Since every user does not watch or rate every movie, there are a lot of missing data points in these massive datasets which makes them quite sparse. Datasets with 10k movies  on an average have 50-300 ratings per user. This makes it really difficult to use generic models.\n",
        " \n",
        " On the other-hand, auto-encoders learn the representation of the input data and try to regenerate the same as the output. As there are a lot of missing input values (0 rating), the auto-encoder anticipates and generates a rating for those movies which the user hasn't seen. This is based on collaborative filtering where the similarity between different users is extrapolated and shared betwen each other. \n",
        "\n",
        "\n",
        "#### Approaches\n",
        "\n",
        "Mass customization is becoming more and more popular. Recommendation systems are built on 2 main approaches.\n",
        "\n",
        "__Content-based filtering__, makes recommendations based on user preferences for product features. \n",
        "\n",
        "__Collaborative filtering__ mimics user-to-user recommendations. It predicts users preferences as a linear, weighted combination of other user preferences.\n"
      ]
    },
    {
      "cell_type": "markdown",
      "metadata": {
        "id": "peuI6cCDyYUd",
        "colab_type": "text"
      },
      "source": [
        "# Brief Description about the project\n",
        "\n",
        "__Data Preprocessing__ - For the scope of this project, MovieLens 1Million dataset is used which is a very popular dataset choice for building recommendation systems. The dataset contains a collection of ratings from 6040 users across 3706 movies. The rating are on a scale of 0-5. Data-preprocessing is performed to get insights regarding the users, movies, or ratings in general.\n",
        "\n",
        "__Developing the Model__ - Different Autoencoder models are developed and trained with different choice of activation functions. TanH, Sigmoid, Linear are some of the activation functions that the model is trained upon. \n",
        "\n",
        "__Training and Evaluating__ - The model is trained for 200 epochs, and the training process is evaluated using 3 different metrics. The metrics considered are RMSE (Root Mean Square Error), MAE (Mean Absolue Error), and NDCG (Normalized Discounted Cumulative Gain).\n",
        "\n",
        "__Comparison against the Spark Model__ - The developed model is trained and compared against the Spark ALS model. Since the spark ALS model is trained on a dataset of 20 Million datapoints, it has better performance when compared against the model with 1Million datapoints.\n",
        "\n",
        "\n"
      ]
    },
    {
      "cell_type": "code",
      "metadata": {
        "id": "SOKa1uMAuU4-",
        "colab_type": "code",
        "colab": {}
      },
      "source": [
        "import numpy as np\n",
        "import pandas as pd\n",
        "import time\n",
        "import pandas as pd\n",
        "import numpy as np\n",
        "import matplotlib.pyplot as plt\n",
        "import seaborn as sns\n",
        "sns.set_style('darkgrid')\n",
        "sns.set(font_scale=1.5)\n",
        "%matplotlib inline"
      ],
      "execution_count": 0,
      "outputs": []
    },
    {
      "cell_type": "markdown",
      "metadata": {
        "id": "_U7xduCPuU5C",
        "colab_type": "text"
      },
      "source": [
        "#### Pre-processing the Ratings Dataset for Training"
      ]
    },
    {
      "cell_type": "code",
      "metadata": {
        "id": "u6d-KYcxuU5D",
        "colab_type": "code",
        "colab": {},
        "outputId": "95d330d1-65f8-4207-a8f2-854381401aef"
      },
      "source": [
        "# Read and Pre-process the Ratings.dat \n",
        "\n",
        "root_path = 'Z:/ml-1m/' # Root Directory containing all the different files\n",
        "\n",
        "ratings = pd.read_csv(root_path +\"ratings.dat\",sep='::',header = None,engine='python',encoding = 'latin-1')\n",
        "ratings = ratings.rename(columns = {0:'userId',1:'movieId',2:'ratings',3:'timestamp'})\n",
        "ratings['timestamp'] = ratings['timestamp'].apply(lambda x: time.strftime('%Y', time.localtime(x)))\n",
        "ratings.head()"
      ],
      "execution_count": 0,
      "outputs": [
        {
          "output_type": "execute_result",
          "data": {
            "text/html": [
              "<div>\n",
              "<style scoped>\n",
              "    .dataframe tbody tr th:only-of-type {\n",
              "        vertical-align: middle;\n",
              "    }\n",
              "\n",
              "    .dataframe tbody tr th {\n",
              "        vertical-align: top;\n",
              "    }\n",
              "\n",
              "    .dataframe thead th {\n",
              "        text-align: right;\n",
              "    }\n",
              "</style>\n",
              "<table border=\"1\" class=\"dataframe\">\n",
              "  <thead>\n",
              "    <tr style=\"text-align: right;\">\n",
              "      <th></th>\n",
              "      <th>userId</th>\n",
              "      <th>movieId</th>\n",
              "      <th>ratings</th>\n",
              "      <th>timestamp</th>\n",
              "    </tr>\n",
              "  </thead>\n",
              "  <tbody>\n",
              "    <tr>\n",
              "      <th>0</th>\n",
              "      <td>1</td>\n",
              "      <td>1193</td>\n",
              "      <td>5</td>\n",
              "      <td>2000</td>\n",
              "    </tr>\n",
              "    <tr>\n",
              "      <th>1</th>\n",
              "      <td>1</td>\n",
              "      <td>661</td>\n",
              "      <td>3</td>\n",
              "      <td>2000</td>\n",
              "    </tr>\n",
              "    <tr>\n",
              "      <th>2</th>\n",
              "      <td>1</td>\n",
              "      <td>914</td>\n",
              "      <td>3</td>\n",
              "      <td>2000</td>\n",
              "    </tr>\n",
              "    <tr>\n",
              "      <th>3</th>\n",
              "      <td>1</td>\n",
              "      <td>3408</td>\n",
              "      <td>4</td>\n",
              "      <td>2000</td>\n",
              "    </tr>\n",
              "    <tr>\n",
              "      <th>4</th>\n",
              "      <td>1</td>\n",
              "      <td>2355</td>\n",
              "      <td>5</td>\n",
              "      <td>2001</td>\n",
              "    </tr>\n",
              "  </tbody>\n",
              "</table>\n",
              "</div>"
            ],
            "text/plain": [
              "   userId  movieId  ratings timestamp\n",
              "0       1     1193        5      2000\n",
              "1       1      661        3      2000\n",
              "2       1      914        3      2000\n",
              "3       1     3408        4      2000\n",
              "4       1     2355        5      2001"
            ]
          },
          "metadata": {
            "tags": []
          },
          "execution_count": 205
        }
      ]
    },
    {
      "cell_type": "code",
      "metadata": {
        "id": "ue1UaQM3uU5F",
        "colab_type": "code",
        "colab": {}
      },
      "source": [
        "# Delete the Timestamp column\n",
        "del ratings['timestamp']"
      ],
      "execution_count": 0,
      "outputs": []
    },
    {
      "cell_type": "code",
      "metadata": {
        "id": "drvn8M6guU5H",
        "colab_type": "code",
        "colab": {},
        "outputId": "02f43670-333f-4235-e621-22b0bd71133a"
      },
      "source": [
        "# Finding the total numbers of users, and list of movie Ids sequence for mapping\n",
        "\n",
        "n_users =  ratings['userId'].nunique()\n",
        "n_movies = ratings['movieId'].unique()\n",
        "\n",
        "print('Total number of users -', n_users)\n",
        "print('Total numbers of movies -', len(n_movies))"
      ],
      "execution_count": 0,
      "outputs": [
        {
          "output_type": "stream",
          "text": [
            "Total number of users - 6040\n",
            "Total numbers of movies - 3706\n"
          ],
          "name": "stdout"
        }
      ]
    },
    {
      "cell_type": "code",
      "metadata": {
        "id": "zXA-o8nPuU5J",
        "colab_type": "code",
        "colab": {},
        "outputId": "a77dfa0a-7e5a-4b4d-f292-7ef46748b424"
      },
      "source": [
        "# Find missing movieIds in the dataset\n",
        "\n",
        "sortedMovieIds = np.sort(n_movies)\n",
        "\n",
        "def find_missing(lst): \n",
        "    start = lst[0] \n",
        "    end = lst[-1] \n",
        "    return sorted(set(range(start, end + 1)).difference(lst)) \n",
        "\n",
        "missingValues = find_missing(sortedMovieIds)\n",
        "print('Missing Movie Ids - ',missingValues, '\\n')\n",
        "print('Number of Movie IDs missing -', len(missingValues))\n"
      ],
      "execution_count": 0,
      "outputs": [
        {
          "output_type": "stream",
          "text": [
            "Missing Movie Ids -  [51, 91, 109, 115, 143, 221, 284, 285, 323, 395, 399, 400, 403, 604, 620, 622, 625, 629, 636, 646, 654, 675, 676, 677, 683, 686, 689, 693, 699, 713, 721, 723, 727, 738, 739, 740, 752, 768, 770, 772, 773, 777, 794, 795, 797, 812, 816, 817, 819, 822, 825, 845, 855, 856, 857, 871, 873, 883, 890, 894, 979, 983, 995, 1001, 1045, 1048, 1052, 1065, 1072, 1074, 1075, 1106, 1108, 1109, 1110, 1122, 1137, 1140, 1141, 1143, 1146, 1155, 1156, 1157, 1158, 1159, 1166, 1182, 1195, 1229, 1239, 1308, 1309, 1314, 1318, 1319, 1338, 1368, 1400, 1402, 1403, 1418, 1424, 1435, 1443, 1448, 1451, 1452, 1462, 1467, 1469, 1478, 1481, 1491, 1492, 1505, 1506, 1512, 1521, 1524, 1530, 1536, 1540, 1557, 1559, 1560, 1568, 1576, 1577, 1578, 1607, 1618, 1628, 1634, 1637, 1638, 1691, 1697, 1698, 1700, 1705, 1706, 1708, 1710, 1712, 1716, 1723, 1736, 1737, 1738, 1740, 1742, 1745, 1751, 1757, 1761, 1763, 1765, 1766, 1768, 1774, 1775, 1776, 1778, 1781, 1786, 1789, 1790, 1800, 1802, 1803, 1808, 1813, 1818, 1819, 1823, 1828, 1838, 1847, 2030, 2199, 2216, 2220, 2222, 2224, 2225, 2228, 2229, 2230, 2270, 2274, 2319, 2489, 2508, 2547, 2564, 2588, 2595, 2601, 2603, 2604, 2680, 2684, 2698, 2832, 2838, 2910, 2954, 2957, 2958, 2980, 3009, 3023, 3059, 3080, 3170, 3191, 3193, 3195, 3226, 3227, 3231, 3234, 3278, 3279, 3332, 3348, 3356, 3369, 3383, 3411, 3455, 3541, 3558, 3560, 3561, 3582, 3583, 3589, 3630, 3650, 3750, 3815, 3829, 3856, 3907] \n",
            "\n",
            "Number of Movies missing - 246\n"
          ],
          "name": "stdout"
        }
      ]
    },
    {
      "cell_type": "code",
      "metadata": {
        "id": "Id4tvOyxuU5K",
        "colab_type": "code",
        "colab": {},
        "outputId": "1d5ec17c-a12e-4ec7-ef75-f19c53958978"
      },
      "source": [
        "# Initializing a numpy array \n",
        "\n",
        "dataset = np.zeros((n_users,len(n_movies)))\n",
        "dataset.shape"
      ],
      "execution_count": 0,
      "outputs": [
        {
          "output_type": "execute_result",
          "data": {
            "text/plain": [
              "(6040, 3706)"
            ]
          },
          "metadata": {
            "tags": []
          },
          "execution_count": 231
        }
      ]
    },
    {
      "cell_type": "code",
      "metadata": {
        "id": "h4bOkXDWuU5M",
        "colab_type": "code",
        "colab": {}
      },
      "source": [
        "# Mappings rows(users) to columns(movies)\n",
        "\n",
        "for i in range(ratings.shape[0]):\n",
        "    user = ratings.iloc[i][0]\n",
        "    movieNumber = ratings.iloc[i][1]\n",
        "    rating = ratings.iloc[i][2]\n",
        "    \n",
        "    movie = np.where(n_movies == movieNumber)\n",
        "    \n",
        "    dataset[int(user) - 1,movie] = rating"
      ],
      "execution_count": 0,
      "outputs": []
    },
    {
      "cell_type": "code",
      "metadata": {
        "id": "4nWDCjTXuU5O",
        "colab_type": "code",
        "colab": {}
      },
      "source": [
        "# Saving the dataset and the movieId using .npy format\n",
        "\n",
        "np.save('dataset.npy',dataset)\n",
        "np.save('movieId.npy',n_movies)"
      ],
      "execution_count": 0,
      "outputs": []
    },
    {
      "cell_type": "markdown",
      "metadata": {
        "id": "alHSea3huU5Q",
        "colab_type": "text"
      },
      "source": [
        "#### Insights on MovieLens Dataset - Ratings, Movies, Users"
      ]
    },
    {
      "cell_type": "code",
      "metadata": {
        "id": "lbkd8pC8uU5R",
        "colab_type": "code",
        "colab": {}
      },
      "source": [
        "# Read Ratings, movies, and users dat files\n",
        "\n",
        "ratings = pd.read_csv(root_path + \"ratings.dat\",sep='::',header = None,engine='python',encoding = 'latin-1')\n",
        "ratings = ratings.rename(columns = {0:'userId',1:'movieId',2:'ratings',3:'timestamp'})\n",
        "ratings['timestamp'] = ratings['timestamp'].apply(lambda x: time.strftime('%Y', time.localtime(x)))\n",
        "    \n",
        "movies = pd.read_csv(root_path + \"movies.dat\",sep='::',header = None,engine='python',encoding = 'latin-1')    \n",
        "movies = movies.rename(columns = {0:'movieId',1:'title',2:'genre'})\n",
        "\n",
        "users = pd.read_csv(root_path + \"users.dat\",sep='::',header = None,engine='python',encoding = 'latin-1')  \n",
        "users = users.rename(columns = {0:'userId',1:'gender',2:'age',3:'occupation',4:'zipcode'})"
      ],
      "execution_count": 0,
      "outputs": []
    },
    {
      "cell_type": "code",
      "metadata": {
        "id": "_yI23BbvuU5T",
        "colab_type": "code",
        "colab": {},
        "outputId": "67cbe9c2-d718-4d5e-96bf-3ba8eaf04dda"
      },
      "source": [
        "# Merge the 3 datasets and print top 10 values\n",
        "\n",
        "data = pd.merge(pd.merge(ratings, users), movies)\n",
        "data.head()"
      ],
      "execution_count": 0,
      "outputs": [
        {
          "output_type": "execute_result",
          "data": {
            "text/html": [
              "<div>\n",
              "<style scoped>\n",
              "    .dataframe tbody tr th:only-of-type {\n",
              "        vertical-align: middle;\n",
              "    }\n",
              "\n",
              "    .dataframe tbody tr th {\n",
              "        vertical-align: top;\n",
              "    }\n",
              "\n",
              "    .dataframe thead th {\n",
              "        text-align: right;\n",
              "    }\n",
              "</style>\n",
              "<table border=\"1\" class=\"dataframe\">\n",
              "  <thead>\n",
              "    <tr style=\"text-align: right;\">\n",
              "      <th></th>\n",
              "      <th>userId</th>\n",
              "      <th>movieId</th>\n",
              "      <th>ratings</th>\n",
              "      <th>timestamp</th>\n",
              "      <th>gender</th>\n",
              "      <th>age</th>\n",
              "      <th>occupation</th>\n",
              "      <th>zipcode</th>\n",
              "      <th>title</th>\n",
              "      <th>genre</th>\n",
              "    </tr>\n",
              "  </thead>\n",
              "  <tbody>\n",
              "    <tr>\n",
              "      <th>0</th>\n",
              "      <td>1</td>\n",
              "      <td>1193</td>\n",
              "      <td>5</td>\n",
              "      <td>2000</td>\n",
              "      <td>F</td>\n",
              "      <td>1</td>\n",
              "      <td>10</td>\n",
              "      <td>48067</td>\n",
              "      <td>One Flew Over the Cuckoo's Nest (1975)</td>\n",
              "      <td>Drama</td>\n",
              "    </tr>\n",
              "    <tr>\n",
              "      <th>1</th>\n",
              "      <td>2</td>\n",
              "      <td>1193</td>\n",
              "      <td>5</td>\n",
              "      <td>2000</td>\n",
              "      <td>M</td>\n",
              "      <td>56</td>\n",
              "      <td>16</td>\n",
              "      <td>70072</td>\n",
              "      <td>One Flew Over the Cuckoo's Nest (1975)</td>\n",
              "      <td>Drama</td>\n",
              "    </tr>\n",
              "    <tr>\n",
              "      <th>2</th>\n",
              "      <td>12</td>\n",
              "      <td>1193</td>\n",
              "      <td>4</td>\n",
              "      <td>2000</td>\n",
              "      <td>M</td>\n",
              "      <td>25</td>\n",
              "      <td>12</td>\n",
              "      <td>32793</td>\n",
              "      <td>One Flew Over the Cuckoo's Nest (1975)</td>\n",
              "      <td>Drama</td>\n",
              "    </tr>\n",
              "    <tr>\n",
              "      <th>3</th>\n",
              "      <td>15</td>\n",
              "      <td>1193</td>\n",
              "      <td>4</td>\n",
              "      <td>2000</td>\n",
              "      <td>M</td>\n",
              "      <td>25</td>\n",
              "      <td>7</td>\n",
              "      <td>22903</td>\n",
              "      <td>One Flew Over the Cuckoo's Nest (1975)</td>\n",
              "      <td>Drama</td>\n",
              "    </tr>\n",
              "    <tr>\n",
              "      <th>4</th>\n",
              "      <td>17</td>\n",
              "      <td>1193</td>\n",
              "      <td>5</td>\n",
              "      <td>2000</td>\n",
              "      <td>M</td>\n",
              "      <td>50</td>\n",
              "      <td>1</td>\n",
              "      <td>95350</td>\n",
              "      <td>One Flew Over the Cuckoo's Nest (1975)</td>\n",
              "      <td>Drama</td>\n",
              "    </tr>\n",
              "  </tbody>\n",
              "</table>\n",
              "</div>"
            ],
            "text/plain": [
              "   userId  movieId  ratings timestamp gender  age  occupation zipcode  \\\n",
              "0       1     1193        5      2000      F    1          10   48067   \n",
              "1       2     1193        5      2000      M   56          16   70072   \n",
              "2      12     1193        4      2000      M   25          12   32793   \n",
              "3      15     1193        4      2000      M   25           7   22903   \n",
              "4      17     1193        5      2000      M   50           1   95350   \n",
              "\n",
              "                                    title  genre  \n",
              "0  One Flew Over the Cuckoo's Nest (1975)  Drama  \n",
              "1  One Flew Over the Cuckoo's Nest (1975)  Drama  \n",
              "2  One Flew Over the Cuckoo's Nest (1975)  Drama  \n",
              "3  One Flew Over the Cuckoo's Nest (1975)  Drama  \n",
              "4  One Flew Over the Cuckoo's Nest (1975)  Drama  "
            ]
          },
          "metadata": {
            "tags": []
          },
          "execution_count": 210
        }
      ]
    },
    {
      "cell_type": "code",
      "metadata": {
        "id": "TH4-Xqf_uU5V",
        "colab_type": "code",
        "colab": {},
        "outputId": "f05fb400-c83e-4d07-f6fb-2cd46d695116"
      },
      "source": [
        "# Average Ratings given by Females and Males\n",
        "\n",
        "avg_ratings = data.pivot_table('ratings', index='title',\n",
        "                               columns='gender', aggfunc='mean')\n",
        "avg_ratings.head()"
      ],
      "execution_count": 0,
      "outputs": [
        {
          "output_type": "execute_result",
          "data": {
            "text/html": [
              "<div>\n",
              "<style scoped>\n",
              "    .dataframe tbody tr th:only-of-type {\n",
              "        vertical-align: middle;\n",
              "    }\n",
              "\n",
              "    .dataframe tbody tr th {\n",
              "        vertical-align: top;\n",
              "    }\n",
              "\n",
              "    .dataframe thead th {\n",
              "        text-align: right;\n",
              "    }\n",
              "</style>\n",
              "<table border=\"1\" class=\"dataframe\">\n",
              "  <thead>\n",
              "    <tr style=\"text-align: right;\">\n",
              "      <th>gender</th>\n",
              "      <th>F</th>\n",
              "      <th>M</th>\n",
              "    </tr>\n",
              "    <tr>\n",
              "      <th>title</th>\n",
              "      <th></th>\n",
              "      <th></th>\n",
              "    </tr>\n",
              "  </thead>\n",
              "  <tbody>\n",
              "    <tr>\n",
              "      <th>$1,000,000 Duck (1971)</th>\n",
              "      <td>3.375000</td>\n",
              "      <td>2.761905</td>\n",
              "    </tr>\n",
              "    <tr>\n",
              "      <th>'Night Mother (1986)</th>\n",
              "      <td>3.388889</td>\n",
              "      <td>3.352941</td>\n",
              "    </tr>\n",
              "    <tr>\n",
              "      <th>'Til There Was You (1997)</th>\n",
              "      <td>2.675676</td>\n",
              "      <td>2.733333</td>\n",
              "    </tr>\n",
              "    <tr>\n",
              "      <th>'burbs, The (1989)</th>\n",
              "      <td>2.793478</td>\n",
              "      <td>2.962085</td>\n",
              "    </tr>\n",
              "    <tr>\n",
              "      <th>...And Justice for All (1979)</th>\n",
              "      <td>3.828571</td>\n",
              "      <td>3.689024</td>\n",
              "    </tr>\n",
              "  </tbody>\n",
              "</table>\n",
              "</div>"
            ],
            "text/plain": [
              "gender                                F         M\n",
              "title                                            \n",
              "$1,000,000 Duck (1971)         3.375000  2.761905\n",
              "'Night Mother (1986)           3.388889  3.352941\n",
              "'Til There Was You (1997)      2.675676  2.733333\n",
              "'burbs, The (1989)             2.793478  2.962085\n",
              "...And Justice for All (1979)  3.828571  3.689024"
            ]
          },
          "metadata": {
            "tags": []
          },
          "execution_count": 211
        }
      ]
    },
    {
      "cell_type": "code",
      "metadata": {
        "id": "LMmKejPsuU5W",
        "colab_type": "code",
        "colab": {},
        "outputId": "4b432360-b16c-4371-80b9-10bb8861fbe3"
      },
      "source": [
        "# Average age of the users\n",
        "\n",
        "avg_ages = data.pivot_table('age', index='title', \n",
        "                             columns='gender', aggfunc='mean')\n",
        "avg_ages.head()"
      ],
      "execution_count": 0,
      "outputs": [
        {
          "output_type": "execute_result",
          "data": {
            "text/html": [
              "<div>\n",
              "<style scoped>\n",
              "    .dataframe tbody tr th:only-of-type {\n",
              "        vertical-align: middle;\n",
              "    }\n",
              "\n",
              "    .dataframe tbody tr th {\n",
              "        vertical-align: top;\n",
              "    }\n",
              "\n",
              "    .dataframe thead th {\n",
              "        text-align: right;\n",
              "    }\n",
              "</style>\n",
              "<table border=\"1\" class=\"dataframe\">\n",
              "  <thead>\n",
              "    <tr style=\"text-align: right;\">\n",
              "      <th>gender</th>\n",
              "      <th>F</th>\n",
              "      <th>M</th>\n",
              "    </tr>\n",
              "    <tr>\n",
              "      <th>title</th>\n",
              "      <th></th>\n",
              "      <th></th>\n",
              "    </tr>\n",
              "  </thead>\n",
              "  <tbody>\n",
              "    <tr>\n",
              "      <th>$1,000,000 Duck (1971)</th>\n",
              "      <td>34.875000</td>\n",
              "      <td>28.333333</td>\n",
              "    </tr>\n",
              "    <tr>\n",
              "      <th>'Night Mother (1986)</th>\n",
              "      <td>30.888889</td>\n",
              "      <td>35.794118</td>\n",
              "    </tr>\n",
              "    <tr>\n",
              "      <th>'Til There Was You (1997)</th>\n",
              "      <td>28.135135</td>\n",
              "      <td>30.533333</td>\n",
              "    </tr>\n",
              "    <tr>\n",
              "      <th>'burbs, The (1989)</th>\n",
              "      <td>27.500000</td>\n",
              "      <td>28.071090</td>\n",
              "    </tr>\n",
              "    <tr>\n",
              "      <th>...And Justice for All (1979)</th>\n",
              "      <td>38.228571</td>\n",
              "      <td>35.506098</td>\n",
              "    </tr>\n",
              "  </tbody>\n",
              "</table>\n",
              "</div>"
            ],
            "text/plain": [
              "gender                                 F          M\n",
              "title                                              \n",
              "$1,000,000 Duck (1971)         34.875000  28.333333\n",
              "'Night Mother (1986)           30.888889  35.794118\n",
              "'Til There Was You (1997)      28.135135  30.533333\n",
              "'burbs, The (1989)             27.500000  28.071090\n",
              "...And Justice for All (1979)  38.228571  35.506098"
            ]
          },
          "metadata": {
            "tags": []
          },
          "execution_count": 228
        }
      ]
    },
    {
      "cell_type": "code",
      "metadata": {
        "id": "88ykjvk1uU5Y",
        "colab_type": "code",
        "colab": {},
        "outputId": "1de608b2-2d89-4ee5-abbf-16a0921252f2"
      },
      "source": [
        "# Number of ratings/movie\n",
        "\n",
        "ratings_per_title = data.groupby('title').size()\n",
        "ratings_per_title.head()"
      ],
      "execution_count": 0,
      "outputs": [
        {
          "output_type": "execute_result",
          "data": {
            "text/plain": [
              "title\n",
              "$1,000,000 Duck (1971)            37\n",
              "'Night Mother (1986)              70\n",
              "'Til There Was You (1997)         52\n",
              "'burbs, The (1989)               303\n",
              "...And Justice for All (1979)    199\n",
              "dtype: int64"
            ]
          },
          "metadata": {
            "tags": []
          },
          "execution_count": 229
        }
      ]
    },
    {
      "cell_type": "code",
      "metadata": {
        "id": "g296OcJmuU5Z",
        "colab_type": "code",
        "colab": {},
        "outputId": "bdbcd58b-3a29-4ffb-bcc6-29efb5583778"
      },
      "source": [
        "# Display distribution of ratings, given by users\n",
        "sns.distplot(ratings['ratings'].fillna(ratings['ratings'].median())).set_title('Distribution of Ratings')"
      ],
      "execution_count": 0,
      "outputs": [
        {
          "output_type": "execute_result",
          "data": {
            "text/plain": [
              "Text(0.5, 1.0, 'Distribution of Ratings')"
            ]
          },
          "metadata": {
            "tags": []
          },
          "execution_count": 230
        },
        {
          "output_type": "display_data",
          "data": {
            "image/png": "[encoded data removed]",
            "text/plain": [
              "<Figure size 432x288 with 1 Axes>"
            ]
          },
          "metadata": {
            "tags": [],
            "needs_background": "light"
          }
        }
      ]
    },
    {
      "cell_type": "code",
      "metadata": {
        "id": "4We1bI1ZuU5b",
        "colab_type": "code",
        "colab": {},
        "outputId": "92abaceb-a042-49b5-8806-91c921e3ede0"
      },
      "source": [
        "\n",
        "# Number of ratings/year. Most ratings are available for the year 2000(equivalent to around 90% of the data points).\n",
        "Now have a look at the average monthly distribution of rating.\n",
        "ratings[['timestamp', 'ratings']].groupby(['timestamp']).count().reset_index().plot.bar(x='timestamp', y='ratings', title='Number of ratings per year', figsize=(10, 5));"
      ],
      "execution_count": 0,
      "outputs": [
        {
          "output_type": "display_data",
          "data": {
            "image/png": "[encoded data removed]",
            "text/plain": [
              "<Figure size 720x360 with 1 Axes>"
            ]
          },
          "metadata": {
            "tags": [],
            "needs_background": "light"
          }
        }
      ]
    },
    {
      "cell_type": "code",
      "metadata": {
        "id": "AlMLqtQfuU5c",
        "colab_type": "code",
        "colab": {},
        "outputId": "c4ea54cf-74e5-4081-cc7e-bf4cd783cbd2"
      },
      "source": [
        "ratings['ratings'].hist(by=ratings['timestamp'], figsize=(10, 6));"
      ],
      "execution_count": 0,
      "outputs": [
        {
          "output_type": "display_data",
          "data": {
            "image/png": "[encoded data removed]",
            "text/plain": [
              "<Figure size 720x432 with 4 Axes>"
            ]
          },
          "metadata": {
            "tags": [],
            "needs_background": "light"
          }
        }
      ]
    },
    {
      "cell_type": "code",
      "metadata": {
        "id": "8PymXUNuuU5e",
        "colab_type": "code",
        "colab": {},
        "outputId": "50594913-320d-4932-f76e-eeafe0ea2162"
      },
      "source": [
        "# Unique genres in the movie dataset\n",
        "\n",
        "genres_unique = pd.DataFrame(movies.genre.str.split('|').tolist()).stack()\n",
        "print('Unique Genres -->', set(genres_unique))"
      ],
      "execution_count": 0,
      "outputs": [
        {
          "output_type": "stream",
          "text": [
            "Unique Genres --> {'Romance', 'Sci-Fi', 'Comedy', 'Animation', 'Horror', 'Western', 'War', 'Documentary', 'Musical', \"Children's\", 'Drama', 'Action', 'Mystery', 'Adventure', 'Film-Noir', 'Thriller', 'Fantasy', 'Crime'}\n"
          ],
          "name": "stdout"
        }
      ]
    },
    {
      "cell_type": "code",
      "metadata": {
        "id": "CzdmrmROuU5f",
        "colab_type": "code",
        "colab": {},
        "outputId": "feb48653-7ce1-48ab-9d6d-a1cc4e419923"
      },
      "source": [
        "# Total number of movies released/year\n",
        "\n",
        "movies['timestamp'] = movies.title.str.extract(\"\\((\\d{4})\\)\", expand=True).astype(str)\n",
        "movie_count = movies[['timestamp', 'movieId']].groupby(['timestamp']).count().reset_index().rename(columns={'movieId':'movie count'})\n",
        "movie_count.plot.bar('timestamp', 'movie count', title='Total number of movies released per year', figsize=(24, 3));"
      ],
      "execution_count": 0,
      "outputs": [
        {
          "output_type": "display_data",
          "data": {
            "image/png": "[encoded data removed]",
            "text/plain": [
              "<Figure size 1728x216 with 1 Axes>"
            ]
          },
          "metadata": {
            "tags": [],
            "needs_background": "light"
          }
        }
      ]
    }
  ]
}