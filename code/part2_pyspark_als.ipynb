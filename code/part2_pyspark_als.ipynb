{
  "nbformat": 4,
  "nbformat_minor": 0,
  "metadata": {
    "colab": {
      "name": "pyspark_als.ipynb",
      "provenance": [],
      "collapsed_sections": [],
      "toc_visible": true
    },
    "kernelspec": {
      "name": "python3",
      "display_name": "Python 3"
    },
    "accelerator": "GPU"
  },
  "cells": [
    {
      "cell_type": "markdown",
      "metadata": {
        "id": "4_vcPyway90b",
        "colab_type": "text"
      },
      "source": [
        "## Part 2 : Spark ALS \n",
        "\n",
        "In this section ,we train an out of the box Collabortive filtering algorithm provided by spark know as Alternating Least Square (ALS) .This alogirthm is an implementation of Matrix Factorization techinique.\n",
        "We fit this model on movielens 20 million ratings and evaluate its RMSE and MAE.\n"
      ]
    },
    {
      "cell_type": "code",
      "metadata": {
        "id": "AolPtZbmme4J",
        "colab_type": "code",
        "outputId": "069fed34-2b8f-49e5-f3f0-dbd694dd312c",
        "colab": {
          "base_uri": "https://localhost:8080/",
          "height": 125
        }
      },
      "source": [
        "from google.colab import drive\n",
        "drive.mount('/content/drive')"
      ],
      "execution_count": 0,
      "outputs": [
        {
          "output_type": "stream",
          "text": [
            "Go to this URL in a browser: https://accounts.google.com/o/oauth2/auth?client_id=947318989803-6bn6qk8qdgf4n4g3pfee6491hc0brc4i.apps.googleusercontent.com&redirect_uri=urn%3aietf%3awg%3aoauth%3a2.0%3aoob&response_type=code&scope=email%20https%3a%2f%2fwww.googleapis.com%2fauth%2fdocs.test%20https%3a%2f%2fwww.googleapis.com%2fauth%2fdrive%20https%3a%2f%2fwww.googleapis.com%2fauth%2fdrive.photos.readonly%20https%3a%2f%2fwww.googleapis.com%2fauth%2fpeopleapi.readonly\n",
            "\n",
            "Enter your authorization code:\n",
            "··········\n",
            "Mounted at /content/drive\n"
          ],
          "name": "stdout"
        }
      ]
    },
    {
      "cell_type": "markdown",
      "metadata": {
        "id": "BK1tkYSf0YVV",
        "colab_type": "text"
      },
      "source": [
        "###Setup Spark\n"
      ]
    },
    {
      "cell_type": "code",
      "metadata": {
        "id": "BEGi9Cj7ju_m",
        "colab_type": "code",
        "colab": {}
      },
      "source": [
        "!apt-get install openjdk-8-jdk-headless -qq > /dev/null\n",
        "!wget -q http://apache.mirrors.spacedump.net/spark/spark-3.0.0-preview2/spark-3.0.0-preview2-bin-hadoop2.7.tgz\n"
      ],
      "execution_count": 0,
      "outputs": []
    },
    {
      "cell_type": "code",
      "metadata": {
        "id": "qbSw1pfLk5JC",
        "colab_type": "code",
        "outputId": "31c19356-20b8-49f4-99f3-8002d3563f0e",
        "colab": {
          "base_uri": "https://localhost:8080/",
          "height": 107
        }
      },
      "source": [
        "!tar xf spark-3.0.0-preview2-bin-hadoop2.7.tgz\n",
        "!pip install  findspark"
      ],
      "execution_count": 0,
      "outputs": [
        {
          "output_type": "stream",
          "text": [
            "Collecting findspark\n",
            "  Downloading https://files.pythonhosted.org/packages/b1/c8/e6e1f6a303ae5122dc28d131b5a67c5eb87cbf8f7ac5b9f87764ea1b1e1e/findspark-1.3.0-py2.py3-none-any.whl\n",
            "Installing collected packages: findspark\n",
            "Successfully installed findspark-1.3.0\n"
          ],
          "name": "stdout"
        }
      ]
    },
    {
      "cell_type": "code",
      "metadata": {
        "id": "jSTjveb9k-Ro",
        "colab_type": "code",
        "colab": {}
      },
      "source": [
        "import os\n",
        "os.environ[\"JAVA_HOME\"] = \"/usr/lib/jvm/java-8-openjdk-amd64\"\n",
        "os.environ[\"SPARK_HOME\"] = \"/content/spark-3.0.0-preview2-bin-hadoop2.7.tgz\""
      ],
      "execution_count": 0,
      "outputs": []
    },
    {
      "cell_type": "code",
      "metadata": {
        "id": "t0DBevK2lB0Y",
        "colab_type": "code",
        "colab": {}
      },
      "source": [
        "import findspark\n",
        "findspark.init('/content/spark-3.0.0-preview2-bin-hadoop2.7')\n",
        "\n",
        "\n",
        "from pyspark.sql import SparkSession\n",
        "spark = SparkSession.builder.master(\"local[*]\").getOrCreate()"
      ],
      "execution_count": 0,
      "outputs": []
    },
    {
      "cell_type": "markdown",
      "metadata": {
        "id": "BJj9WwSZ0kaz",
        "colab_type": "text"
      },
      "source": [
        "### Load data\n"
      ]
    },
    {
      "cell_type": "code",
      "metadata": {
        "id": "ppJ5V8ScmZki",
        "colab_type": "code",
        "outputId": "2fe68e92-1806-4e88-855b-d047add788d8",
        "colab": {
          "base_uri": "https://localhost:8080/",
          "height": 34
        }
      },
      "source": [
        "from pyspark.ml.evaluation import RegressionEvaluator\n",
        "from pyspark.ml.recommendation import ALS\n",
        "from pyspark.sql import Row\n",
        "\n",
        "ratings = spark.read.format(\"csv\").option(\"header\", \"true\").option(\"inferSchema\", \"true\").load(\"/content/drive/My Drive/ml-dataset/20m/ratings.csv\")\n",
        "print(\"Number of records : \",ratings.count())\n",
        "  \n",
        "  \n",
        "\n"
      ],
      "execution_count": 0,
      "outputs": [
        {
          "output_type": "stream",
          "text": [
            "Number of records :  20000263\n"
          ],
          "name": "stdout"
        }
      ]
    },
    {
      "cell_type": "markdown",
      "metadata": {
        "id": "xkHb2TGQ0vNr",
        "colab_type": "text"
      },
      "source": [
        "### Explore dataset\n"
      ]
    },
    {
      "cell_type": "code",
      "metadata": {
        "id": "gKw8G6jmMSQK",
        "colab_type": "code",
        "outputId": "0d8efc09-a488-4bb0-d4a9-5d60082c1ec4",
        "colab": {
          "base_uri": "https://localhost:8080/",
          "height": 193
        }
      },
      "source": [
        "ratings.describe().show()"
      ],
      "execution_count": 0,
      "outputs": [
        {
          "output_type": "stream",
          "text": [
            "+-------+-----------------+------------------+------------------+--------------------+\n",
            "|summary|           userId|           movieId|            rating|           timestamp|\n",
            "+-------+-----------------+------------------+------------------+--------------------+\n",
            "|  count|         20000263|          20000263|          20000263|            20000263|\n",
            "|   mean|69045.87258292554| 9041.567330339605|3.5255285642993797|1.1009179216771157E9|\n",
            "| stddev|40038.62665316201|19789.477445413086| 1.051988919294227|1.6216942478273067E8|\n",
            "|    min|                1|                 1|               0.5|           789652004|\n",
            "|    max|           138493|            131262|               5.0|          1427784002|\n",
            "+-------+-----------------+------------------+------------------+--------------------+\n",
            "\n"
          ],
          "name": "stdout"
        }
      ]
    },
    {
      "cell_type": "code",
      "metadata": {
        "id": "GaAaZHR5MA10",
        "colab_type": "code",
        "outputId": "25a4e26f-b692-4b96-a7c2-09ebcfb111a9",
        "colab": {
          "base_uri": "https://localhost:8080/",
          "height": 70
        }
      },
      "source": [
        "\n",
        "print('Number of  users: {}'.format(ratings.select('userId').distinct().count()))\n",
        "print('Number of  movies: {}'.format(ratings.select('movieId').distinct().count()))\n",
        "print('Number of movies with at least one rating higher than 3: {}'.format(ratings.filter('rating > 3').select('movieId').distinct().count()))"
      ],
      "execution_count": 0,
      "outputs": [
        {
          "output_type": "stream",
          "text": [
            "Number of  users: 138493\n",
            "Number of  movies: 26744\n",
            "Number of movies with at least one rating higher than 3: 22884\n"
          ],
          "name": "stdout"
        }
      ]
    },
    {
      "cell_type": "markdown",
      "metadata": {
        "id": "gipCagHz04Ys",
        "colab_type": "text"
      },
      "source": [
        "### Train model\n"
      ]
    },
    {
      "cell_type": "code",
      "metadata": {
        "id": "5vy_aSww-9oL",
        "colab_type": "code",
        "colab": {}
      },
      "source": [
        "\n",
        "#split dataset\n",
        "(training, test) = ratings.randomSplit([0.80, 0.20])\n",
        "\n",
        "#train ALS \n",
        "als = ALS(maxIter=5, regParam=0.01, userCol=\"userId\", itemCol=\"movieId\", ratingCol=\"rating\",coldStartStrategy=\"drop\")\n",
        "model = als.fit(training)\n",
        "\n"
      ],
      "execution_count": 0,
      "outputs": []
    },
    {
      "cell_type": "markdown",
      "metadata": {
        "id": "VGE9_nYJ0-20",
        "colab_type": "text"
      },
      "source": [
        "### Evaluate\n"
      ]
    },
    {
      "cell_type": "code",
      "metadata": {
        "id": "U__jHiu11Bm8",
        "colab_type": "code",
        "outputId": "b4a04316-e2bf-447a-bb89-9e43cdfe5056",
        "colab": {
          "base_uri": "https://localhost:8080/",
          "height": 52
        }
      },
      "source": [
        "# Evaluate \n",
        "predictions = model.transform(test)\n",
        "\n",
        "evaluatorRmse = RegressionEvaluator(metricName=\"rmse\", labelCol=\"rating\",\n",
        "                                predictionCol=\"prediction\")\n",
        "rmse = evaluatorRmse.evaluate(predictions)\n",
        "print(\"RMSE  = \" + str(rmse))\n",
        "\n",
        "evaluatorMae = RegressionEvaluator( metricName=\"mae\",labelCol=\"rating\",predictionCol=\"prediction\")\n",
        "mae = evaluatorMae.evaluate(predictions)\n",
        "print(\"Mean absolute error = \" + str(mae))"
      ],
      "execution_count": 0,
      "outputs": [
        {
          "output_type": "stream",
          "text": [
            "RMSE  = 0.8135797927665147\n",
            "Mean absolute error = 0.6254400840948735\n"
          ],
          "name": "stdout"
        }
      ]
    },
    {
      "cell_type": "markdown",
      "metadata": {
        "id": "CIjSlL4D1D60",
        "colab_type": "text"
      },
      "source": [
        "### Results\n",
        "We obsere that the RMSE for the ALS model is 0.81 with MAE of 0.62 on the 20 million ratings dataset.\n"
      ]
    },
    {
      "cell_type": "code",
      "metadata": {
        "id": "QuCLTCTCEeoz",
        "colab_type": "code",
        "outputId": "f6fe7b01-b634-45da-db98-e86fd434e2a4",
        "colab": {
          "base_uri": "https://localhost:8080/",
          "height": 140
        }
      },
      "source": [
        "from prettytable import PrettyTable\n",
        "import numpy as np\n",
        "x = PrettyTable()\n",
        "\n",
        "x.field_names = [\"Metric\", \"Value\"]\n",
        "\n",
        "x.add_row([\"Root Mean Square Error \", np.round(rmse,4)])\n",
        "x.add_row([\" Mean Square Error \", np.round(np.square(rmse),4)])\n",
        "x.add_row([\"Mean Absolute Error\", np.round(mae,4)])\n",
        "\n",
        "print(x)"
      ],
      "execution_count": 0,
      "outputs": [
        {
          "output_type": "stream",
          "text": [
            "+-------------------------+--------+\n",
            "|          Metric         | Value  |\n",
            "+-------------------------+--------+\n",
            "| Root Mean Square Error  | 0.8136 |\n",
            "|    Mean Square Error    | 0.6619 |\n",
            "|   Mean Absolute Error   | 0.6254 |\n",
            "+-------------------------+--------+\n"
          ],
          "name": "stdout"
        }
      ]
    },
    {
      "cell_type": "markdown",
      "metadata": {
        "id": "5EtEGqWl1R0E",
        "colab_type": "text"
      },
      "source": [
        "### Next\n",
        "IN next part we train our autoencoder models and compare results with ALS .\n",
        "\n",
        "\n"
      ]
    }
  ]
}